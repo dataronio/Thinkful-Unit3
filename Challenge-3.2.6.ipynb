{
 "cells": [
  {
   "cell_type": "markdown",
   "metadata": {},
   "source": [
    "## Import Libraries ##"
   ]
  },
  {
   "cell_type": "code",
   "execution_count": 1,
   "metadata": {},
   "outputs": [],
   "source": [
    "import math\n",
    "import warnings\n",
    "\n",
    "from IPython.display import display\n",
    "import pandas as pd\n",
    "import numpy as np\n",
    "import scipy\n",
    "import matplotlib.pyplot as plt\n",
    "from sklearn import tree\n",
    "from sklearn.model_selection import cross_val_score\n",
    "import seaborn as sns\n",
    "from sklearn import ensemble\n",
    "%matplotlib inline\n",
    "\n",
    "pd.options.display.float_format = '{:.3f}'.format\n",
    "\n",
    "# Suppress annoying harmless error.\n",
    "warnings.filterwarnings(\n",
    "    action=\"ignore\",\n",
    "    module=\"scipy\",\n",
    "    message=\"^internal gelsd\"\n",
    ")"
   ]
  },
  {
   "cell_type": "markdown",
   "metadata": {},
   "source": [
    "### Description of Iris Dataset ###"
   ]
  },
  {
   "cell_type": "markdown",
   "metadata": {},
   "source": [
    "*  This is one of the most famous datasets in the world.  The dataset was used in a famous paper by Fisher (1936).\n",
    "\n",
    "* Dataset contains three species of Iris for the purposes of classification using sepal and petal measurements.\n",
    "\n",
    "* Contains 50 examples of each species for 150 datapoints total.\n",
    "\n",
    "* Attribute information:\n",
    "  1. sepal length in cm \n",
    "  2. sepal width in cm \n",
    "  3. petal length in cm \n",
    "  4. petal width in cm \n",
    "  5. class:\n",
    "    * Iris Setosa \n",
    "    * Iris Versicolour  \n",
    "    * Iris Virginica\n",
    "\n",
    "* References:\n",
    "\n",
    "* Fisher,R.A. \"The use of multiple measurements in taxonomic problems\" Annual Eugenics, 7, Part II, 179-188 (1936)."
   ]
  },
  {
   "cell_type": "code",
   "execution_count": 4,
   "metadata": {},
   "outputs": [],
   "source": [
    "# bring in dataset\n",
    "iris = pd.read_csv('./iris.data')"
   ]
  },
  {
   "cell_type": "code",
   "execution_count": 5,
   "metadata": {},
   "outputs": [
    {
     "data": {
      "text/html": [
       "<div>\n",
       "<style scoped>\n",
       "    .dataframe tbody tr th:only-of-type {\n",
       "        vertical-align: middle;\n",
       "    }\n",
       "\n",
       "    .dataframe tbody tr th {\n",
       "        vertical-align: top;\n",
       "    }\n",
       "\n",
       "    .dataframe thead th {\n",
       "        text-align: right;\n",
       "    }\n",
       "</style>\n",
       "<table border=\"1\" class=\"dataframe\">\n",
       "  <thead>\n",
       "    <tr style=\"text-align: right;\">\n",
       "      <th></th>\n",
       "      <th>sepal_length</th>\n",
       "      <th>sepal_width</th>\n",
       "      <th>petal_length</th>\n",
       "      <th>petal_width</th>\n",
       "      <th>class</th>\n",
       "    </tr>\n",
       "  </thead>\n",
       "  <tbody>\n",
       "    <tr>\n",
       "      <th>0</th>\n",
       "      <td>5.100</td>\n",
       "      <td>3.500</td>\n",
       "      <td>1.400</td>\n",
       "      <td>0.200</td>\n",
       "      <td>Iris-setosa</td>\n",
       "    </tr>\n",
       "    <tr>\n",
       "      <th>1</th>\n",
       "      <td>4.900</td>\n",
       "      <td>3.000</td>\n",
       "      <td>1.400</td>\n",
       "      <td>0.200</td>\n",
       "      <td>Iris-setosa</td>\n",
       "    </tr>\n",
       "    <tr>\n",
       "      <th>2</th>\n",
       "      <td>4.700</td>\n",
       "      <td>3.200</td>\n",
       "      <td>1.300</td>\n",
       "      <td>0.200</td>\n",
       "      <td>Iris-setosa</td>\n",
       "    </tr>\n",
       "    <tr>\n",
       "      <th>3</th>\n",
       "      <td>4.600</td>\n",
       "      <td>3.100</td>\n",
       "      <td>1.500</td>\n",
       "      <td>0.200</td>\n",
       "      <td>Iris-setosa</td>\n",
       "    </tr>\n",
       "    <tr>\n",
       "      <th>4</th>\n",
       "      <td>5.000</td>\n",
       "      <td>3.600</td>\n",
       "      <td>1.400</td>\n",
       "      <td>0.200</td>\n",
       "      <td>Iris-setosa</td>\n",
       "    </tr>\n",
       "  </tbody>\n",
       "</table>\n",
       "</div>"
      ],
      "text/plain": [
       "   sepal_length  sepal_width  petal_length  petal_width        class\n",
       "0         5.100        3.500         1.400        0.200  Iris-setosa\n",
       "1         4.900        3.000         1.400        0.200  Iris-setosa\n",
       "2         4.700        3.200         1.300        0.200  Iris-setosa\n",
       "3         4.600        3.100         1.500        0.200  Iris-setosa\n",
       "4         5.000        3.600         1.400        0.200  Iris-setosa"
      ]
     },
     "execution_count": 5,
     "metadata": {},
     "output_type": "execute_result"
    }
   ],
   "source": [
    "iris.head()"
   ]
  },
  {
   "cell_type": "code",
   "execution_count": 6,
   "metadata": {},
   "outputs": [
    {
     "data": {
      "text/html": [
       "<div>\n",
       "<style scoped>\n",
       "    .dataframe tbody tr th:only-of-type {\n",
       "        vertical-align: middle;\n",
       "    }\n",
       "\n",
       "    .dataframe tbody tr th {\n",
       "        vertical-align: top;\n",
       "    }\n",
       "\n",
       "    .dataframe thead th {\n",
       "        text-align: right;\n",
       "    }\n",
       "</style>\n",
       "<table border=\"1\" class=\"dataframe\">\n",
       "  <thead>\n",
       "    <tr style=\"text-align: right;\">\n",
       "      <th></th>\n",
       "      <th>sepal_length</th>\n",
       "      <th>sepal_width</th>\n",
       "      <th>petal_length</th>\n",
       "      <th>petal_width</th>\n",
       "    </tr>\n",
       "  </thead>\n",
       "  <tbody>\n",
       "    <tr>\n",
       "      <th>count</th>\n",
       "      <td>150.000</td>\n",
       "      <td>150.000</td>\n",
       "      <td>150.000</td>\n",
       "      <td>150.000</td>\n",
       "    </tr>\n",
       "    <tr>\n",
       "      <th>mean</th>\n",
       "      <td>5.843</td>\n",
       "      <td>3.054</td>\n",
       "      <td>3.759</td>\n",
       "      <td>1.199</td>\n",
       "    </tr>\n",
       "    <tr>\n",
       "      <th>std</th>\n",
       "      <td>0.828</td>\n",
       "      <td>0.434</td>\n",
       "      <td>1.764</td>\n",
       "      <td>0.763</td>\n",
       "    </tr>\n",
       "    <tr>\n",
       "      <th>min</th>\n",
       "      <td>4.300</td>\n",
       "      <td>2.000</td>\n",
       "      <td>1.000</td>\n",
       "      <td>0.100</td>\n",
       "    </tr>\n",
       "    <tr>\n",
       "      <th>25%</th>\n",
       "      <td>5.100</td>\n",
       "      <td>2.800</td>\n",
       "      <td>1.600</td>\n",
       "      <td>0.300</td>\n",
       "    </tr>\n",
       "    <tr>\n",
       "      <th>50%</th>\n",
       "      <td>5.800</td>\n",
       "      <td>3.000</td>\n",
       "      <td>4.350</td>\n",
       "      <td>1.300</td>\n",
       "    </tr>\n",
       "    <tr>\n",
       "      <th>75%</th>\n",
       "      <td>6.400</td>\n",
       "      <td>3.300</td>\n",
       "      <td>5.100</td>\n",
       "      <td>1.800</td>\n",
       "    </tr>\n",
       "    <tr>\n",
       "      <th>max</th>\n",
       "      <td>7.900</td>\n",
       "      <td>4.400</td>\n",
       "      <td>6.900</td>\n",
       "      <td>2.500</td>\n",
       "    </tr>\n",
       "  </tbody>\n",
       "</table>\n",
       "</div>"
      ],
      "text/plain": [
       "       sepal_length  sepal_width  petal_length  petal_width\n",
       "count       150.000      150.000       150.000      150.000\n",
       "mean          5.843        3.054         3.759        1.199\n",
       "std           0.828        0.434         1.764        0.763\n",
       "min           4.300        2.000         1.000        0.100\n",
       "25%           5.100        2.800         1.600        0.300\n",
       "50%           5.800        3.000         4.350        1.300\n",
       "75%           6.400        3.300         5.100        1.800\n",
       "max           7.900        4.400         6.900        2.500"
      ]
     },
     "execution_count": 6,
     "metadata": {},
     "output_type": "execute_result"
    }
   ],
   "source": [
    "iris.describe()"
   ]
  },
  {
   "cell_type": "markdown",
   "metadata": {},
   "source": [
    "### Set up Models ###"
   ]
  },
  {
   "cell_type": "code",
   "execution_count": 8,
   "metadata": {},
   "outputs": [
    {
     "data": {
      "text/plain": [
       "<seaborn.axisgrid.PairGrid at 0x7fa6f027bac8>"
      ]
     },
     "execution_count": 8,
     "metadata": {},
     "output_type": "execute_result"
    },
    {
     "data": {
      "image/png": "[encoded data removed]",
      "text/plain": [
       "<matplotlib.figure.Figure at 0x7fa6c0515d30>"
      ]
     },
     "metadata": {},
     "output_type": "display_data"
    }
   ],
   "source": [
    "sns.pairplot(iris)"
   ]
  },
  {
   "cell_type": "code",
   "execution_count": 13,
   "metadata": {},
   "outputs": [],
   "source": [
    "X = iris.iloc[:,:-1]\n",
    "Y = iris.iloc[:,-1]"
   ]
  },
  {
   "cell_type": "code",
   "execution_count": 22,
   "metadata": {},
   "outputs": [],
   "source": [
    "clf1 = tree.DecisionTreeClassifier(random_state=0,max_depth=3)"
   ]
  },
  {
   "cell_type": "code",
   "execution_count": 26,
   "metadata": {},
   "outputs": [
    {
     "name": "stdout",
     "output_type": "stream",
     "text": [
      "[1.         0.93333333 1.         0.93333333 0.93333333 0.93333333\n",
      " 0.93333333 0.93333333 1.         1.        ]\n",
      "-------------------------------------------------------------\n",
      "mean cv score = 0.960 +- 0.033\n"
     ]
    }
   ],
   "source": [
    "cvscore = cross_val_score(clf1, X, Y, cv=10)\n",
    "\n",
    "print(cvscore)\n",
    "print(\"-------------------------------------------------------------\")\n",
    "print(\"mean cv score = {:.3f} +- {:.3f}\".format(cvscore.mean(), cvscore.std()))\n"
   ]
  },
  {
   "cell_type": "code",
   "execution_count": 27,
   "metadata": {},
   "outputs": [],
   "source": [
    "clf2 = tree.DecisionTreeClassifier(random_state=0,max_depth=4)"
   ]
  },
  {
   "cell_type": "code",
   "execution_count": 28,
   "metadata": {},
   "outputs": [
    {
     "name": "stdout",
     "output_type": "stream",
     "text": [
      "[1.         0.93333333 1.         0.93333333 0.93333333 0.86666667\n",
      " 0.93333333 0.93333333 1.         1.        ]\n",
      "-------------------------------------------------------------\n",
      "mean cv score = 0.953 +- 0.043\n"
     ]
    }
   ],
   "source": [
    "cvscore = cross_val_score(clf2, X, Y, cv=10)\n",
    "\n",
    "print(cvscore)\n",
    "print(\"-------------------------------------------------------------\")\n",
    "print(\"mean cv score = {:.3f} +- {:.3f}\".format(cvscore.mean(), cvscore.std()))\n"
   ]
  },
  {
   "cell_type": "code",
   "execution_count": 29,
   "metadata": {},
   "outputs": [],
   "source": [
    "clf3 = tree.DecisionTreeClassifier(random_state=0,max_depth=5)"
   ]
  },
  {
   "cell_type": "code",
   "execution_count": 30,
   "metadata": {},
   "outputs": [
    {
     "name": "stdout",
     "output_type": "stream",
     "text": [
      "[1.         0.93333333 1.         0.93333333 0.93333333 0.86666667\n",
      " 0.93333333 1.         1.         1.        ]\n",
      "-------------------------------------------------------------\n",
      "mean cv score = 0.960 +- 0.044\n"
     ]
    }
   ],
   "source": [
    "cvscore = cross_val_score(clf3, X, Y, cv=10)\n",
    "\n",
    "print(cvscore)\n",
    "print(\"-------------------------------------------------------------\")\n",
    "print(\"mean cv score = {:.3f} +- {:.3f}\".format(cvscore.mean(), cvscore.std()))\n"
   ]
  },
  {
   "cell_type": "code",
   "execution_count": 31,
   "metadata": {},
   "outputs": [],
   "source": [
    "clf4 = tree.DecisionTreeClassifier(random_state=0,max_depth=2)"
   ]
  },
  {
   "cell_type": "code",
   "execution_count": 32,
   "metadata": {},
   "outputs": [
    {
     "name": "stdout",
     "output_type": "stream",
     "text": [
      "[0.93333333 0.93333333 1.         0.93333333 0.93333333 0.86666667\n",
      " 0.86666667 1.         1.         1.        ]\n",
      "-------------------------------------------------------------\n",
      "mean cv score = 0.947 +- 0.050\n"
     ]
    }
   ],
   "source": [
    "cvscore = cross_val_score(clf4, X, Y, cv=10)\n",
    "\n",
    "print(cvscore)\n",
    "print(\"-------------------------------------------------------------\")\n",
    "print(\"mean cv score = {:.3f} +- {:.3f}\".format(cvscore.mean(), cvscore.std()))\n"
   ]
  },
  {
   "cell_type": "code",
   "execution_count": 34,
   "metadata": {},
   "outputs": [],
   "source": [
    "clf5 = tree.DecisionTreeClassifier(criterion=\"entropy\",random_state=0,max_depth=3)"
   ]
  },
  {
   "cell_type": "code",
   "execution_count": 35,
   "metadata": {},
   "outputs": [
    {
     "name": "stdout",
     "output_type": "stream",
     "text": [
      "[1.         0.93333333 1.         0.93333333 0.93333333 0.93333333\n",
      " 0.93333333 0.93333333 1.         1.        ]\n",
      "-------------------------------------------------------------\n",
      "mean cv score = 0.960 +- 0.033\n"
     ]
    }
   ],
   "source": [
    "cvscore = cross_val_score(clf5, X, Y, cv=10)\n",
    "\n",
    "print(cvscore)\n",
    "print(\"-------------------------------------------------------------\")\n",
    "print(\"mean cv score = {:.3f} +- {:.3f}\".format(cvscore.mean(), cvscore.std()))\n"
   ]
  },
  {
   "cell_type": "code",
   "execution_count": 36,
   "metadata": {},
   "outputs": [],
   "source": [
    "clf6 = tree.DecisionTreeClassifier(criterion=\"entropy\",random_state=0,max_depth=5)"
   ]
  },
  {
   "cell_type": "code",
   "execution_count": 37,
   "metadata": {},
   "outputs": [
    {
     "name": "stdout",
     "output_type": "stream",
     "text": [
      "[1.         0.93333333 1.         0.93333333 0.93333333 0.86666667\n",
      " 0.93333333 1.         1.         1.        ]\n",
      "-------------------------------------------------------------\n",
      "mean cv score = 0.960 +- 0.044\n"
     ]
    }
   ],
   "source": [
    "cvscore = cross_val_score(clf6, X, Y, cv=10)\n",
    "\n",
    "print(cvscore)\n",
    "print(\"-------------------------------------------------------------\")\n",
    "print(\"mean cv score = {:.3f} +- {:.3f}\".format(cvscore.mean(), cvscore.std()))"
   ]
  },
  {
   "cell_type": "markdown",
   "metadata": {},
   "source": [
    "* In general, decision trees do well on this dataset.\n",
    "\n",
    "* The best in terms of mean/std ratio of cv score (accuracy) is criterion = \"gini or \"entropy\" with max depth=3\n",
    "\n",
    "* I go with clf1 as the best overall decision tree classifier."
   ]
  },
  {
   "cell_type": "markdown",
   "metadata": {},
   "source": [
    "### Random Forest Classifier ###"
   ]
  },
  {
   "cell_type": "markdown",
   "metadata": {},
   "source": [
    "* Let's just pick a small number of trees in the ensemble and see how it works."
   ]
  },
  {
   "cell_type": "code",
   "execution_count": 38,
   "metadata": {},
   "outputs": [],
   "source": [
    "rfc1 = ensemble.RandomForestClassifier()"
   ]
  },
  {
   "cell_type": "code",
   "execution_count": 39,
   "metadata": {},
   "outputs": [
    {
     "name": "stdout",
     "output_type": "stream",
     "text": [
      "[1.         0.93333333 1.         0.93333333 0.93333333 0.86666667\n",
      " 0.86666667 0.93333333 1.         1.        ]\n",
      "-------------------------------------------------------------\n",
      "mean cv score = 0.947 +- 0.050\n"
     ]
    }
   ],
   "source": [
    "cvscore = cross_val_score(rfc1, X, Y, cv=10)\n",
    "\n",
    "print(cvscore)\n",
    "print(\"-------------------------------------------------------------\")\n",
    "print(\"mean cv score = {:.3f} +- {:.3f}\".format(cvscore.mean(), cvscore.std()))"
   ]
  },
  {
   "cell_type": "code",
   "execution_count": 40,
   "metadata": {},
   "outputs": [],
   "source": [
    "rfc2 = ensemble.RandomForestClassifier(max_depth=3)"
   ]
  },
  {
   "cell_type": "code",
   "execution_count": 41,
   "metadata": {},
   "outputs": [
    {
     "name": "stdout",
     "output_type": "stream",
     "text": [
      "[1.         0.93333333 1.         0.93333333 0.93333333 0.86666667\n",
      " 0.93333333 1.         1.         1.        ]\n",
      "-------------------------------------------------------------\n",
      "mean cv score = 0.960 +- 0.044\n"
     ]
    }
   ],
   "source": [
    "cvscore = cross_val_score(rfc2, X, Y, cv=10)\n",
    "\n",
    "print(cvscore)\n",
    "print(\"-------------------------------------------------------------\")\n",
    "print(\"mean cv score = {:.3f} +- {:.3f}\".format(cvscore.mean(), cvscore.std()))"
   ]
  },
  {
   "cell_type": "markdown",
   "metadata": {},
   "source": [
    "*  This matches the performance of the best decision tree.\n",
    "\n",
    "* It uses 10 trees in the ensemble"
   ]
  },
  {
   "cell_type": "code",
   "execution_count": 42,
   "metadata": {},
   "outputs": [],
   "source": [
    "rfc3 = ensemble.RandomForestClassifier(n_estimators=5,max_depth=3)"
   ]
  },
  {
   "cell_type": "code",
   "execution_count": 43,
   "metadata": {},
   "outputs": [
    {
     "name": "stdout",
     "output_type": "stream",
     "text": [
      "[0.93333333 0.93333333 1.         0.93333333 0.86666667 0.93333333\n",
      " 0.86666667 1.         1.         1.        ]\n",
      "-------------------------------------------------------------\n",
      "mean cv score = 0.947 +- 0.050\n"
     ]
    }
   ],
   "source": [
    "cvscore = cross_val_score(rfc2, X, Y, cv=10)\n",
    "\n",
    "print(cvscore)\n",
    "print(\"-------------------------------------------------------------\")\n",
    "print(\"mean cv score = {:.3f} +- {:.3f}\".format(cvscore.mean(), cvscore.std()))"
   ]
  },
  {
   "cell_type": "markdown",
   "metadata": {},
   "source": [
    "* smaller number of trees seems to do worse.\n",
    "\n",
    "* Just go with 10 trees in the forest each with max depth = 3"
   ]
  },
  {
   "cell_type": "code",
   "execution_count": 44,
   "metadata": {},
   "outputs": [],
   "source": [
    "import time"
   ]
  },
  {
   "cell_type": "code",
   "execution_count": 61,
   "metadata": {},
   "outputs": [
    {
     "name": "stdout",
     "output_type": "stream",
     "text": [
      "---Decision Tree takes 0.022917509078979492 seconds ---\n"
     ]
    }
   ],
   "source": [
    "start_time = time.time()\n",
    "clf1 = tree.DecisionTreeClassifier(random_state=0,max_depth=3)\n",
    "cvscore = cross_val_score(clf1, X, Y, cv=10)\n",
    "print(\"---Decision Tree takes %s seconds ---\" % (time.time() - start_time))"
   ]
  },
  {
   "cell_type": "code",
   "execution_count": 62,
   "metadata": {},
   "outputs": [
    {
     "name": "stdout",
     "output_type": "stream",
     "text": [
      "--- Small (n=10) Random Forest takes 0.15711474418640137 seconds ---\n"
     ]
    }
   ],
   "source": [
    "start_time = time.time()\n",
    "rfc2 = ensemble.RandomForestClassifier(max_depth=3)\n",
    "cvscore = cross_val_score(rfc2, X, Y, cv=10)\n",
    "print(\"--- Small (n=10) Random Forest takes %s seconds ---\" % (time.time() - start_time))"
   ]
  },
  {
   "cell_type": "markdown",
   "metadata": {},
   "source": [
    "* practically the same amount of time to complete 10-fold CV with modern computers.\n",
    "\n",
    "* Ultimately Random Forest should have greater generalization power at a modest increased computer expense."
   ]
  },
  {
   "cell_type": "code",
   "execution_count": null,
   "metadata": {},
   "outputs": [],
   "source": []
  }
 ],
 "metadata": {
  "kernelspec": {
   "display_name": "Python 3",
   "language": "python",
   "name": "python3"
  },
  "language_info": {
   "codemirror_mode": {
    "name": "ipython",
    "version": 3
   },
   "file_extension": ".py",
   "mimetype": "text/x-python",
   "name": "python",
   "nbconvert_exporter": "python",
   "pygments_lexer": "ipython3",
   "version": "3.6.4"
  }
 },
 "nbformat": 4,
 "nbformat_minor": 2
}
